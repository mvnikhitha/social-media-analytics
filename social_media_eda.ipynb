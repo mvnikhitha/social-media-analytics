{
 "cells": [
  {
   "cell_type": "code",
   "execution_count": null,
   "id": "240fa0d9",
   "metadata": {},
   "outputs": [],
   "source": [
    "import pandas as pd\n",
    "import matplotlib.pyplot as plt\n",
    "import seaborn as sns"
   ]
  },
  {
   "cell_type": "code",
   "execution_count": null,
   "id": "9adfe29d",
   "metadata": {},
   "outputs": [],
   "source": [
    "# Load the dataset\n",
    "df = pd.read_csv('sentimentdataset.csv')"
   ]
  },
  {
   "cell_type": "code",
   "execution_count": null,
   "metadata": {},
   "outputs": [],
   "source": [
    "\n",
    "# Drop redundant columns\n",
    "df = df.drop(columns=['Unnamed: 0.1', 'Unnamed: 0'])\n"
   ]
  },
  {
   "cell_type": "code",
   "execution_count": null,
   "id": "d4b0c901",
   "metadata": {},
   "outputs": [
    {
     "ename": "NameError",
     "evalue": "name 'df' is not defined",
     "output_type": "error",
     "traceback": [
      "\u001b[31m---------------------------------------------------------------------------\u001b[39m",
      "\u001b[31mNameError\u001b[39m                                 Traceback (most recent call last)",
      "\u001b[36mCell\u001b[39m\u001b[36m \u001b[39m\u001b[32mIn[1]\u001b[39m\u001b[32m, line 2\u001b[39m\n\u001b[32m      1\u001b[39m \u001b[38;5;66;03m# Time trend of engagement\u001b[39;00m\n\u001b[32m----> \u001b[39m\u001b[32m2\u001b[39m engagement = \u001b[43mdf\u001b[49m.groupby(\u001b[33m'\u001b[39m\u001b[33mdate\u001b[39m\u001b[33m'\u001b[39m)[[\u001b[33m'\u001b[39m\u001b[33mLikes\u001b[39m\u001b[33m'\u001b[39m, \u001b[33m'\u001b[39m\u001b[33mRetweets\u001b[39m\u001b[33m'\u001b[39m]].sum().reset_index()\n\u001b[32m      3\u001b[39m engagement.plot(x=\u001b[33m'\u001b[39m\u001b[33mdate\u001b[39m\u001b[33m'\u001b[39m, y=[\u001b[33m'\u001b[39m\u001b[33mLikes\u001b[39m\u001b[33m'\u001b[39m, \u001b[33m'\u001b[39m\u001b[33mRetweets\u001b[39m\u001b[33m'\u001b[39m], title=\u001b[33m\"\u001b[39m\u001b[33mEngagement Over Time\u001b[39m\u001b[33m\"\u001b[39m)\n\u001b[32m      4\u001b[39m plt.show()\n",
      "\u001b[31mNameError\u001b[39m: name 'df' is not defined"
     ]
    }
   ],
   "source": [
    "# Clean whitespace from object columns\n",
    "df = df.apply(lambda x: x.str.strip() if x.dtype == \"object\" else x)\n",
    "\n",
    "# Convert timestamp\n",
    "df['Timestamp'] = pd.to_datetime(df['Timestamp'])\n"
   ]
  },
  {
   "cell_type": "code",
   "execution_count": null,
   "id": "5390e58f",
   "metadata": {},
   "outputs": [],
   "source": [
    "print(\"Dataset Info:\")\n",
    "print(df.info())\n",
    "print(\"\\nMissing values:\\n\", df.isnull().sum())\n",
    "print(\"\\nSentiment distribution:\\n\", df['Sentiment'].value_counts())"
   ]
  },
  {
   "cell_type": "code",
   "execution_count": null,
   "id": "f614859d",
   "metadata": {},
   "outputs": [],
   "source": [
    "plt.figure(figsize=(6, 4))\n",
    "sns.countplot(data=df, x='Sentiment', palette='Set2')\n",
    "plt.title('Sentiment Distribution')\n",
    "plt.xlabel('Sentiment')\n",
    "plt.ylabel('Count')\n",
    "plt.show()"
   ]
  },
  {
   "cell_type": "code",
   "execution_count": null,
   "id": "328e641d",
   "metadata": {},
   "outputs": [],
   "source": [
    "plt.figure(figsize=(12, 5))\n",
    "sns.boxplot(data=df, x='Sentiment', y='Likes', palette='Set3')\n",
    "plt.title('Likes by Sentiment')\n",
    "plt.show()\n",
    "\n",
    "plt.figure(figsize=(12, 5))\n",
    "sns.boxplot(data=df, x='Sentiment', y='Retweets', palette='Set3')\n",
    "plt.title('Retweets by Sentiment')\n",
    "plt.show()"
   ]
  },
  {
   "cell_type": "code",
   "execution_count": null,
   "id": "05061542",
   "metadata": {},
   "outputs": [],
   "source": [
    "plt.figure(figsize=(8, 4))\n",
    "sns.countplot(data=df, x='Platform', palette='Set1')\n",
    "plt.title('Posts per Platform')\n",
    "plt.xticks(rotation=45)\n",
    "plt.show()"
   ]
  },
  {
   "cell_type": "code",
   "execution_count": null,
   "id": "44b69ddc",
   "metadata": {},
   "outputs": [],
   "source": [
    "top_countries = df['Country'].value_counts().nlargest(10)\n",
    "plt.figure(figsize=(10, 4))\n",
    "sns.barplot(x=top_countries.index, y=top_countries.values, palette='Set2')\n",
    "plt.title('Top 10 Countries by Post Count')\n",
    "plt.xticks(rotation=45)\n",
    "plt.ylabel('Post Count')\n",
    "plt.show()"
   ]
  },
  {
   "cell_type": "code",
   "execution_count": null,
   "id": "6330dba8",
   "metadata": {},
   "outputs": [],
   "source": [
    "\n",
    "df['Hour'] = df['Timestamp'].dt.hour\n",
    "\n",
    "plt.figure(figsize=(10, 4))\n",
    "sns.histplot(df['Hour'], bins=24, kde=True)\n",
    "plt.title('Posts by Hour of Day')\n",
    "plt.xlabel('Hour')\n",
    "plt.ylabel('Number of Posts')\n",
    "plt.show()\n"
   ]
  },
  {
   "cell_type": "code",
   "execution_count": null,
   "id": "f525e97d",
   "metadata": {},
   "outputs": [],
   "source": [
    "from collections import Counter\n",
    "\n",
    "def extract_hashtags(text):\n",
    "    return text.lower().split()\n",
    "\n",
    "hashtag_list = df['Hashtags'].apply(extract_hashtags).sum()\n",
    "common_hashtags = Counter(hashtag_list).most_common(20)\n",
    "hashtags_df = pd.DataFrame(common_hashtags, columns=['Hashtag', 'Count'])\n",
    "\n",
    "plt.figure(figsize=(12, 5))\n",
    "sns.barplot(data=hashtags_df, x='Hashtag', y='Count', palette='coolwarm')\n",
    "plt.title('Top 20 Hashtags')\n",
    "plt.xticks(rotation=45)\n",
    "plt.show()\n"
   ]
  }
 ],
 "metadata": {
  "kernelspec": {
   "display_name": "venv",
   "language": "python",
   "name": "python3"
  },
  "language_info": {
   "codemirror_mode": {
    "name": "ipython",
    "version": 3
   },
   "file_extension": ".py",
   "mimetype": "text/x-python",
   "name": "python",
   "nbconvert_exporter": "python",
   "pygments_lexer": "ipython3",
   "version": "3.13.2"
  }
 },
 "nbformat": 4,
 "nbformat_minor": 5
}
